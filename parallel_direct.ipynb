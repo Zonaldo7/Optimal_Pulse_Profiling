{
 "cells": [
  {
   "cell_type": "code",
   "execution_count": null,
   "metadata": {},
   "outputs": [],
   "source": [
    "import logging\n",
    "import os\n",
    "os.environ[\"CUDA_VISIBLE_DEVICES\"] = \"1\"\n",
    "from copy import deepcopy\n",
    "import warnings\n",
    "import numpy as np\n",
    "from numpy import pi\n",
    "import matplotlib.pyplot as plt\n",
    "from qiskit.circuit import Gate\n",
    "from qiskit import transpile\n",
    "from qiskit.transpiler import InstructionProperties\n",
    "import sys\n",
    "sys.path.append(\"/scr/dataset/yuchen/qec_calib/Calib_Compiler\")\n",
    "from qiskit_utilities import (\n",
    "    save_job_data,\n",
    "    setup_logger,\n",
    "    retrieve_expdata,\n",
    "    get_cr_schedule,\n",
    "    iy_drag_calibration,\n",
    "    get_default_cr_params,\n",
    "    read_calibration_data,\n",
    "    create_direct_cnot_schedule,\n",
    "    rough_rz0_correction_calibration,\n",
    "    fine_rz0_correction_calibration,\n",
    "    initilize_qiskit_dynamics_backend,\n",
    "    parallel_rz0_correction_calibration,\n",
    "    parallel_fine_rz0_correction_calibration,\n",
    "    parallel_cr_pulse_calib\n",
    ")\n",
    "token = \"REPLACE WITH IBM TOKEN\"\n",
    "from qiskit_ibm_runtime import QiskitRuntimeService\n",
    "service = QiskitRuntimeService(\n",
    "    token = token,\n",
    "    channel=\"ibm_quantum\"\n",
    ")\n",
    "backend = service.backend(\"ibm_rensselaer\")\n",
    "setup_logger(filename=None, level=logging.INFO, stdout=True)\n",
    "logger = logging.getLogger(\"qiskit_utilities\")"
   ]
  },
  {
   "cell_type": "code",
   "execution_count": null,
   "metadata": {},
   "outputs": [],
   "source": [
    "# qubit_pairs = [[117, 116], [123, 122], [64, 65], [0, 1]]\n",
    "# qubit_pairs = [[0, 14], [3, 2], [5, 6], [16, 8], [10, 11], [22, 15], [17, 30], [20, 19], [24, 25], [27, 28], [36, 32], [38, 37], [41, 40], [43, 44], [47, 46], [55, 49], [64, 54], [57, 56], [59, 60], [62, 72], [67, 66], [69, 70], [77, 71], [75, 90], [91, 79], [83, 82], [86, 85], [88, 89], [106, 93], [96, 95], [99, 100], [102, 103], [112, 108], [111, 122], [113, 114], [117, 118], [125, 124]]\n",
    "qubit_pairs = [[0, 14], [3, 2], [5, 6], [16, 8], [10, 11], [22, 15], [17, 30], [20, 19], [24, 25], [27, 28], [36, 32], [38, 37], [41, 40], [43, 44], [47, 46], [55, 49], [64, 54], [57, 56], [59, 60], [67, 66], [69, 70], [77, 71], [75, 90], [91, 79], [83, 82], [86, 85], [88, 89], [106, 93], [96, 95], [99, 100], [102, 103], [112, 108], [111, 122], [113, 114], [117, 118], [125, 124]]\n",
    "qubit_pairs = qubit_pairs[:7]\n",
    "# qubit_pairs = [[0, 14]]\n",
    "# qubit_pairs = [qubit_pairs[19]]\n",
    "initial_calibration_data_lst = []\n",
    "for qubit_pair in qubit_pairs:\n",
    "    ratio = 2\n",
    "    QUBIT_C, QUBIT_T = qubit_pair[0], qubit_pair[1]\n",
    "    cr_config, ix_config = get_default_cr_params(backend, qubit_pair[0], qubit_pair[1])\n",
    "    f0 = backend.properties().frequency(QUBIT_C)\n",
    "    f1 = backend.properties().frequency(QUBIT_T)\n",
    "    a0 = backend.properties().qubit_property(QUBIT_C)[\"anharmonicity\"][0]\n",
    "    a1 = backend.properties().qubit_property(QUBIT_T)[\"anharmonicity\"][0]\n",
    "    duration = backend.defaults().instruction_schedule_map.get(\"ecr\", (QUBIT_C, QUBIT_T)).duration/16 * 4/ratio\n",
    "    params = {\n",
    "        \"order\": \"3\",\n",
    "        \"t_r\": 10,\n",
    "        \"drag_type\": \"exact\",\n",
    "        \"duration\": duration,\n",
    "        \"amp\": cr_config[\"amp\"]*ratio,\n",
    "        \"angle\": cr_config[\"angle\"],\n",
    "        \"Delta\": (backend.properties().frequency(QUBIT_C) - backend.properties().frequency(QUBIT_T)) * 1.0e-9 * 2 * pi,\n",
    "        \"a1\": 2 * pi * backend.properties().qubit_property(QUBIT_C)[\"anharmonicity\"][0] * 1.0e-9,\n",
    "        \"drag_scale\": [1., 1., 1.]\n",
    "    }\n",
    "    cr_params = deepcopy(params)\n",
    "    ix_params = deepcopy(params)\n",
    "    ix_params[\"amp\"] = ix_config[\"amp\"]*ratio\n",
    "    ix_params[\"angle\"] = ix_config[\"angle\"]\n",
    "    ix_params[\"order\"] = \"2\"\n",
    "    ix_params[\"drag_type\"] = \"01\"\n",
    "    initial_calibration_data = {\n",
    "        \"cr_params\": cr_params,\n",
    "        \"ix_params\": ix_params,\n",
    "        \"frequency_offset\": 0.,\n",
    "    }\n",
    "    initial_calibration_data_lst.append(initial_calibration_data)\n",
    "cr_times = 16 * np.arange(16, duration + 16, duration // 30, dtype=int)\n",
    "gate_name = \"CR-recursive-tr10-direct\""
   ]
  },
  {
   "cell_type": "code",
   "execution_count": null,
   "metadata": {},
   "outputs": [],
   "source": [
    "from qiskit_utilities import parallel_cr_pulse_calib\n",
    "finished = parallel_cr_pulse_calib(\n",
    "    qubit_pairs,\n",
    "    backend=backend,\n",
    "    cr_times=cr_times,\n",
    "    initial_calibration_data=initial_calibration_data_lst,\n",
    "    gate_name=gate_name,\n",
    "    verbose=True,\n",
    "    restart=True,\n",
    "    max_repeat=4,\n",
    "    rerun_last_calibration=True,\n",
    "    shots=2048,\n",
    "    mode=\"CR\"\n",
    ")"
   ]
  },
  {
   "cell_type": "code",
   "execution_count": null,
   "metadata": {},
   "outputs": [],
   "source": [
    "duration = backend.defaults().instruction_schedule_map.get(\"ecr\", (QUBIT_C, QUBIT_T)).duration/16 * 4 / ratio / 2\n",
    "cr_times = 16 * np.arange(16, duration + 16, duration//30, dtype=int)"
   ]
  },
  {
   "cell_type": "code",
   "execution_count": null,
   "metadata": {},
   "outputs": [],
   "source": [
    "finished = parallel_cr_pulse_calib(\n",
    "    finished,\n",
    "    backend=backend,\n",
    "    cr_times=cr_times,\n",
    "    gate_name=gate_name,\n",
    "    initial_calibration_data=None,\n",
    "    verbose=True,\n",
    "    threshold_MHz=0.015,\n",
    "    restart=True,\n",
    "    rerun_last_calibration=False,\n",
    "    max_repeat=3,\n",
    "    shots=8096,\n",
    "    mode=\"IX-pi\"\n",
    "    )"
   ]
  },
  {
   "cell_type": "code",
   "execution_count": null,
   "metadata": {},
   "outputs": [],
   "source": [
    "from qiskit_utilities import parallel_rz0_correction_calibration\n",
    "parallel_rz0_correction_calibration(\n",
    "    backend,\n",
    "    finished,\n",
    "    gate_name\n",
    ")"
   ]
  },
  {
   "cell_type": "code",
   "execution_count": null,
   "metadata": {},
   "outputs": [],
   "source": [
    "from qiskit_utilities import parallel_fine_rz0_correction_calibration\n",
    "parallel_fine_rz0_correction_calibration(\n",
    "    backend,\n",
    "    finished,\n",
    "    gate_name,\n",
    "    max_repeat_cnot=6\n",
    ")"
   ]
  }
 ],
 "metadata": {
  "kernelspec": {
   "display_name": "calib",
   "language": "python",
   "name": "python3"
  },
  "language_info": {
   "codemirror_mode": {
    "name": "ipython",
    "version": 3
   },
   "file_extension": ".py",
   "mimetype": "text/x-python",
   "name": "python",
   "nbconvert_exporter": "python",
   "pygments_lexer": "ipython3",
   "version": "3.10.15"
  }
 },
 "nbformat": 4,
 "nbformat_minor": 2
}
